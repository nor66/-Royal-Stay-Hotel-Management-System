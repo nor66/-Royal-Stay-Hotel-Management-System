{
 "cells": [
  {
   "cell_type": "code",
   "execution_count": 5,
   "id": "7882d225",
   "metadata": {},
   "outputs": [
    {
     "name": "stdout",
     "output_type": "stream",
     "text": [
      "Enter the guest name: Noura Alketbi\n",
      "Enter your email address: alketbinora2023@email.com\n",
      "Enter your contact number: 055-123-4545\n",
      "Enter your loyalty status (Yes/No): Yes\n",
      "Error: The contact number must be 10 digits.\n"
     ]
    }
   ],
   "source": [
    "#Test Case 1: Testing Guest Account Creation  \n",
    "\n",
    "#we initialize the TestGuestAccountCreation class by asking the user to enter details for creating a guest account.\n",
    "class TestGuestAccountCreation:\n",
    "    def __init__(self):\n",
    "        self.guest_name = input(\"Enter the guest name: \")\n",
    "        self.guest_email = input(\"Enter your email address: \")\n",
    "        self.guest_contact = input(\"Enter your contact number: \")\n",
    "        self.loyalty_status = input(\"Enter your loyalty status (Yes/No): \")\n",
    "        self.create_account()\n",
    "\n",
    "#we create a guest account by validating the email and contact information. If the email is invalid or the contact number is not 10 digits, an error will be raised.        \n",
    "    def create_account(self):\n",
    "        assert \"@\" in self.guest_email, \"Invalid email address.\"\n",
    "        assert len(self.guest_contact) == 10 and self.guest_contact.isdigit(), \"The contact number must be 10 digits.\"\n",
    "        print(f\"Account created successfully for {self.guest_name}. Loyalty status: {self.loyalty_status}\")\n",
    "\n",
    "#running the test\n",
    "try:\n",
    "    guest_account = TestGuestAccountCreation()\n",
    "except AssertionError as e:\n",
    "    print(\"Error:\", e)"
   ]
  },
  {
   "cell_type": "code",
   "execution_count": 1,
   "id": "1e98568a",
   "metadata": {},
   "outputs": [
    {
     "name": "stdout",
     "output_type": "stream",
     "text": [
      "Enter your check-in date (YYYY-MM-DD): 2025-04-15\n",
      "Enter your check-out date (YYYY-MM-DD): 2025-04-19\n",
      "Enter your room type (Single/Double/Suite): Single\n",
      "Enter your required amenities (Minibar, Premium TV Channels, Wi-Fi, Pool): Minibar, Pool\n",
      "Searching for Single room from 2025-04-15 to 2025-04-19 with amenities: Minibar, Pool\n"
     ]
    }
   ],
   "source": [
    "#Test Case 2: Searching for Available Rooms\n",
    "\n",
    "#we initialize the TestRoomSearch class by asking the user to enter details regarding their room search preferences.\n",
    "class TestRoomSearch:\n",
    "    def __init__(self):\n",
    "        self.check_in_date = input(\"Enter your check-in date (YYYY-MM-DD): \")\n",
    "        self.check_out_date = input(\"Enter your check-out date (YYYY-MM-DD): \")\n",
    "        self.room_type = input(\"Enter your room type (Single/Double/Suite): \")\n",
    "        self.amenities = input(\"Enter your required amenities (Minibar, Premium TV Channels, Wi-Fi, Pool): \")\n",
    "        \n",
    "#we verify the room type and print the room search details. If an error is raised, then the room type is not one of the specified types (Single, Double, Suite).\n",
    "    def search_rooms(self):\n",
    "        assert self.room_type in [\"Single\", \"Double\", \"Suite\"], \"Invalid room type.\"\n",
    "        print(f\"Searching for {self.room_type} room from {self.check_in_date} to {self.check_out_date} with amenities: {self.amenities}\")\n",
    "    \n",
    "#running the test\n",
    "try:\n",
    "    room_search = TestRoomSearch()\n",
    "    room_search.search_rooms()\n",
    "except AssertionError as e:\n",
    "    print(\"Error:\", e)"
   ]
  },
  {
   "cell_type": "code",
   "execution_count": 6,
   "id": "60b574fc",
   "metadata": {},
   "outputs": [
    {
     "name": "stdout",
     "output_type": "stream",
     "text": [
      "Enter your room type to reserve (Single/Double/Suite): Suite\n",
      "Enter the guest name: Noura Alketbi\n",
      "Enter your check-in date (YYYY-MM-DD): 2025-04-15\n",
      "Enter your check-out date (YYYY-MM-DD): 2025-04-19\n",
      "Reservation successful for Noura Alketbi in a Suite room from 2025-04-15 to 2025-04-19\n"
     ]
    }
   ],
   "source": [
    "#Test Case 3: Making a Room Reservation\n",
    "\n",
    "#we import the date class from the datetime module in python to be able to modify dates and timings\n",
    "from datetime import date\n",
    "\n",
    "#we initialize the TestRoomReservation class by asking the user to enter their details related to their room reservation.\n",
    "class TestRoomReservation:\n",
    "    def __init__(self):\n",
    "        self.room_type = input(\"Enter your room type to reserve (Single/Double/Suite): \")\n",
    "        self.guest_name = input(\"Enter the guest name: \")\n",
    "        self.check_in_date = input(\"Enter your check-in date (YYYY-MM-DD): \")\n",
    "        self.check_out_date = input(\"Enter your check-out date (YYYY-MM-DD): \")\n",
    "    \n",
    "\n",
    "    def make_reservation(self):\n",
    "        try:\n",
    "            #converting the string dates into datetime objects\n",
    "            check_in_date_obj = date(*map(int, self.check_in_date.split('-')))\n",
    "            check_out_date_obj = date(*map(int, self.check_out_date.split('-'))) \n",
    "\n",
    "            #ensuring the check-out date is after the check-in date\n",
    "            assert check_in_date_obj < check_out_date_obj, \"Check-out date must be after check-in date.\" \n",
    "\n",
    "            #checking that the entered room_type is valid\n",
    "            assert self.room_type in [\"Single\", \"Double\", \"Suite\"], \"Invalid room type.\"\n",
    "\n",
    "            print(f\"Reservation successful for {self.guest_name} in a {self.room_type} room from {self.check_in_date} to {self.check_out_date}\")\n",
    "        \n",
    "        except ValueError:\n",
    "            print(\"Error: Invalid date format. Please use YYYY-MM-DD.\")\n",
    "\n",
    "#running the test\n",
    "try:\n",
    "    room_reservation = TestRoomReservation()\n",
    "    room_reservation.make_reservation()\n",
    "except AssertionError as e:\n",
    "    print(\"Error:\", e)"
   ]
  },
  {
   "cell_type": "code",
   "execution_count": 8,
   "id": "5c2b93cf",
   "metadata": {},
   "outputs": [
    {
     "name": "stdout",
     "output_type": "stream",
     "text": [
      "Booking confirmation sent successfully!\n"
     ]
    }
   ],
   "source": [
    "#Test Case 4: Booking Confirmation Notification\n",
    "\n",
    "#we initialize the TestBookingConfirmation class by setting booking_successful to True, which will result in a successful booking.\n",
    "class TestBookingConfirmation:\n",
    "    def __init__(self):\n",
    "        self.booking_successful = True\n",
    "\n",
    "#we verify that the booking is successful before sending a confirmation. If the booking is unsuccessful, an error will be raised.        \n",
    "    def send_confirmation(self):\n",
    "        assert self.booking_successful, \"Booking failed, no confirmation can be sent.\"\n",
    "        print(\"Booking confirmation sent successfully!\")\n",
    "        \n",
    "#running the test\n",
    "try:\n",
    "    booking_confirmation = TestBookingConfirmation()\n",
    "    booking_confirmation.send_confirmation()\n",
    "except AssertionError as e:\n",
    "    print(\"Error:\", e)"
   ]
  },
  {
   "cell_type": "code",
   "execution_count": 11,
   "id": "b97aaafc",
   "metadata": {},
   "outputs": [
    {
     "name": "stdout",
     "output_type": "stream",
     "text": [
      "Enter the nightly rate: 1500\n",
      "Enter the number of nights: 4\n",
      "Enter the additional charges: 500\n",
      "Enter the discount applied: 0.15\n",
      "Invoice generated: Total amount = 6499.85\n"
     ]
    }
   ],
   "source": [
    "#Test Case 5: Invoice Generation for a Booking\n",
    "\n",
    "#we initialize the TestInvoiceGeneration class by asking the user for their input related to the invoice calculation.\n",
    "class TestInvoiceGeneration:\n",
    "    def __init__(self):\n",
    "        self.nightly_rate = float(input(\"Enter the nightly rate: \"))\n",
    "        self.nights_stayed = int(input(\"Enter the number of nights: \"))\n",
    "        self.additional_charges = float(input(\"Enter the additional charges: \"))\n",
    "        self.discount = float(input(\"Enter the discount applied: \"))\n",
    "        \n",
    "#we calculate the total amount for the stay by considering the nightly rate, number of nights, the additional charges, and discount. This will ensure that the total amount is not negative before generating the invoice.\n",
    "    def generate_invoice(self):\n",
    "        total_amount = (self.nightly_rate * self.nights_stayed) + self.additional_charges - self.discount\n",
    "        assert total_amount >= 0, \"Total amount cannot be negative.\"\n",
    "        print(f\"Invoice generated: Total amount = {total_amount}\")\n",
    "\n",
    "#running the test\n",
    "try:\n",
    "    invoice = TestInvoiceGeneration()\n",
    "    invoice.generate_invoice()\n",
    "except AssertionError as e:\n",
    "    print(\"Error:\", e)"
   ]
  },
  {
   "cell_type": "code",
   "execution_count": 12,
   "id": "35eb2b90",
   "metadata": {},
   "outputs": [
    {
     "name": "stdout",
     "output_type": "stream",
     "text": [
      "Enter payment method (Credit/Debit/Mobile Wallet): Mobile Wallet\n",
      "Enter payment amount: 6499.85\n",
      "Payment of 6499.85 processed successfully using Mobile Wallet.\n"
     ]
    }
   ],
   "source": [
    "#Test Case 6: Processing Different Payment Methods\n",
    "class TestPaymentProcessing:\n",
    "    def __init__(self):\n",
    "        self.payment_method = input(\"Enter payment method (Credit/Debit/Mobile Wallet): \")\n",
    "        self.amount = float(input(\"Enter payment amount: \"))\n",
    "    \n",
    "#we initialize the TestPaymentProcessing class by asking the user for their payment details.\n",
    "\n",
    "\n",
    "    def process_payment(self):\n",
    "        assert self.payment_method in [\"Credit\", \"Debit\", \"Mobile Wallet\"], \"Invalid payment method.\"\n",
    "        assert self.amount > 0, \"Amount should be greater than zero.\"\n",
    "        print(f\"Payment of {self.amount} processed successfully using {self.payment_method}.\")\n",
    "        \n",
    "#verifying the payment method and ensuring the payment amount is positive. Then processing the payment after verification.\n",
    "\n",
    "try:\n",
    "    payment_processing = TestPaymentProcessing()\n",
    "    payment_processing.process_payment()\n",
    "except AssertionError as e:\n",
    "    print(\"Error:\", e)"
   ]
  },
  {
   "cell_type": "code",
   "execution_count": 16,
   "id": "7b846b59",
   "metadata": {},
   "outputs": [
    {
     "name": "stdout",
     "output_type": "stream",
     "text": [
      "Displaying reservation history:\n",
      "Guest: Noura Alketbi, Room: Suite, Dates: 2025-04-15 to 2025-04-19\n",
      "Guest: Noura Alketbi, Room: Double, Dates: 2025-04-15 to 2025-04-19\n"
     ]
    }
   ],
   "source": [
    "#Test Case 7: Displaying Reservation History\n",
    "class TestReservationHistory:\n",
    "    def __init__(self):\n",
    "        self.reservation_history = []  \n",
    "        \n",
    "#we initialize the TestReservationHistory class with an empty list to hold reservation history.\n",
    "    def add_reservation(self, reservation):\n",
    "        self.reservation_history.append(reservation)  \n",
    "\n",
    "#displaying the reservation history, and ensuring there is at least one reservation in the history before printing. If the history is empty, an error will be raised.\n",
    "    def display_history(self):\n",
    "        assert len(self.reservation_history) > 0, \"No reservations found.\"\n",
    "        print(\"Displaying reservation history:\")\n",
    "        for reservation in self.reservation_history:\n",
    "            print(reservation)\n",
    "\n",
    "#running the test\n",
    "try:\n",
    "    reservation_history = TestReservationHistory()\n",
    "    reservation_history.add_reservation(\"Guest: Noura Alketbi, Room: Suite, Dates: 2025-04-15 to 2025-04-19\")\n",
    "    reservation_history.add_reservation(\"Guest: Noura Alketbi, Room: Double, Dates: 2025-04-15 to 2025-04-19\")\n",
    "    \n",
    "    reservation_history.display_history()\n",
    "\n",
    "except AssertionError as e:\n",
    "    print(\"Error:\", e)"
   ]
  },
  {
   "cell_type": "code",
   "execution_count": 17,
   "id": "cb867e0b",
   "metadata": {},
   "outputs": [
    {
     "name": "stdout",
     "output_type": "stream",
     "text": [
      "Reservation cancelled. Cancellation fee: 50.0\n"
     ]
    }
   ],
   "source": [
    "#Test Case 8: Cancellation of a Reservation\n",
    "\n",
    "#we initialize the TestReservationCancellation class by setting (reservation_exists) to True and defining a fixed cancellation fee.\n",
    "class TestReservationCancellation:\n",
    "    def __init__(self):\n",
    "        self.reservation_exists = True\n",
    "#flat cancellation fee\n",
    "        self.cancellation_fee = 50.00   \n",
    "\n",
    "#verifying  that a reservation exists before canceling it. If a reservation exists, the cancellation message and the fee will be printed, if not an error will be raised.\n",
    "    def cancel_reservation(self):\n",
    "        assert self.reservation_exists, \"No reservation found to cancel.\"\n",
    "        print(f\"Reservation cancelled. Cancellation fee: {self.cancellation_fee}\")\n",
    "        \n",
    "#running the test\n",
    "try:\n",
    "    reservation_cancellation = TestReservationCancellation()\n",
    "    reservation_cancellation.cancel_reservation()\n",
    "except AssertionError as e:\n",
    "    print(\"Error:\", e)"
   ]
  }
 ],
 "metadata": {
  "kernelspec": {
   "display_name": "Python 3 (ipykernel)",
   "language": "python",
   "name": "python3"
  },
  "language_info": {
   "codemirror_mode": {
    "name": "ipython",
    "version": 3
   },
   "file_extension": ".py",
   "mimetype": "text/x-python",
   "name": "python",
   "nbconvert_exporter": "python",
   "pygments_lexer": "ipython3",
   "version": "3.11.4"
  }
 },
 "nbformat": 4,
 "nbformat_minor": 5
}
